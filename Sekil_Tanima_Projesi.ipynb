{
 "cells": [
  {
   "cell_type": "code",
   "execution_count": 1,
   "id": "5d06b1f6-2708-42ae-8fac-f7c512ad169c",
   "metadata": {},
   "outputs": [
    {
     "name": "stdout",
     "output_type": "stream",
     "text": [
      "Algılanan şekil sayısı: 4\n"
     ]
    }
   ],
   "source": [
    "import cv2\n",
    "import numpy as np\n",
    "\n",
    "def tanimla_sekil(kontur):\n",
    "    acilar = cv2.approxPolyDP(kontur, 0.04 * cv2.arcLength(kontur, True), True)\n",
    "    if len(acilar) == 3:\n",
    "        return \"Üçgen\"\n",
    "    elif len(acilar) == 4:\n",
    "        x, y, w, h = cv2.boundingRect(acilar)\n",
    "        oran = w / float(h)\n",
    "        return \"Dikdörtgen\" if 0.95 <= oran <= 1.05 else \"Dörtgen\"\n",
    "    elif len(acilar) > 4:\n",
    "        return \"Daire\"\n",
    "    return \"Bilinmeyen\"\n",
    "\n",
    "# Görüntüyü yükle\n",
    "gorsel = cv2.imread('sekiller.jpg')\n",
    "gri_gorsel = cv2.cvtColor(gorsel, cv2.COLOR_BGR2GRAY)\n",
    "\n",
    "# Görüntüyü bulanıklaştır ve kenar tespit et\n",
    "gri_gorsel = cv2.GaussianBlur(gri_gorsel, (5, 5), 0)\n",
    "kenarlar = cv2.Canny(gri_gorsel, 50, 150)\n",
    "\n",
    "# Konturları bul\n",
    "konturlar, _ = cv2.findContours(kenarlar, cv2.RETR_EXTERNAL, cv2.CHAIN_APPROX_SIMPLE)\n",
    "\n",
    "# Toplam şekil sayısını yazdır\n",
    "print(f\"Algılanan şekil sayısı: {len(konturlar)}\")\n",
    "\n",
    "# Şekilleri tespit et\n",
    "for kontur in konturlar:\n",
    "    alan = cv2.contourArea(kontur)\n",
    "    if alan > 100:  # Küçük gürültüyü filtrele\n",
    "        sekil = tanimla_sekil(kontur)\n",
    "        x, y, w, h = cv2.boundingRect(kontur)\n",
    "        cv2.rectangle(gorsel, (x, y), (x + w, y + h), (0, 255, 0), 2)\n",
    "        cv2.putText(gorsel, sekil, (x, y - 10), cv2.FONT_HERSHEY_SIMPLEX, 0.5, (0, 255, 0), 2)\n",
    "\n",
    "# Sonucu göster\n",
    "cv2.imshow('Şekil Tespiti', gorsel)\n",
    "cv2.waitKey(0)\n",
    "cv2.destroyAllWindows()\n"
   ]
  }
 ],
 "metadata": {
  "kernelspec": {
   "display_name": "Python 3 (ipykernel)",
   "language": "python",
   "name": "python3"
  },
  "language_info": {
   "codemirror_mode": {
    "name": "ipython",
    "version": 3
   },
   "file_extension": ".py",
   "mimetype": "text/x-python",
   "name": "python",
   "nbconvert_exporter": "python",
   "pygments_lexer": "ipython3",
   "version": "3.12.7"
  }
 },
 "nbformat": 4,
 "nbformat_minor": 5
}
